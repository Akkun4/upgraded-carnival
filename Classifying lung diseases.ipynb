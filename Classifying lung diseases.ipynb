{
 "cells": [
  {
   "cell_type": "code",
   "execution_count": 27,
   "id": "07202fa7",
   "metadata": {},
   "outputs": [],
   "source": [
    "import glob\n",
    "import cv2\n",
    "import numpy as np\n",
    "import random\n",
    "import tensorflow as tf\n",
    "from tensorflow.keras import layers\n",
    "from keras.layers import Dense, Flatten\n",
    "from keras.layers.convolutional import Conv2D\n",
    "from keras.models import Sequential\n",
    "from keras.layers import Dense, Conv2D, Flatten\n",
    "from keras.models import Sequential\n",
    "from keras.utils import to_categorical\n",
    "from tensorflow.keras.optimizers import Adam\n"
   ]
  },
  {
   "cell_type": "code",
   "execution_count": 28,
   "id": "4f4394e8",
   "metadata": {},
   "outputs": [],
   "source": [
    "### Reading the source files\n",
    "\n",
    "covid = [cv2.imread(file,cv2.IMREAD_GRAYSCALE) for file in glob.glob(\"C:\\\\Users\\Admin\\Desktop\\KG\\Covid-19\\COVID-19_Radiography_Dataset\\COVID\\images\\*.png\")]\n",
    "\n",
    "lung = [cv2.imread(file,cv2.IMREAD_GRAYSCALE) for file in glob.glob(\"C:\\\\Users\\Admin\\Desktop\\KG\\Covid-19\\COVID-19_Radiography_Dataset\\Lung_Opacity\\images\\*.png\")]\n",
    "\n",
    "normal = [cv2.imread(file,cv2.IMREAD_GRAYSCALE) for file in glob.glob(\"C:\\\\Users\\Admin\\Desktop\\KG\\Covid-19\\COVID-19_Radiography_Dataset\\\\Normal\\images\\*.png\")]\n",
    "\n",
    "viral = [cv2.imread(file,cv2.IMREAD_GRAYSCALE) for file in glob.glob(\"C:\\\\Users\\Admin\\Desktop\\KG\\Covid-19\\COVID-19_Radiography_Dataset\\Viral Pneumonia\\images\\*.png\")]\n"
   ]
  },
  {
   "cell_type": "code",
   "execution_count": 29,
   "id": "4a6554f2",
   "metadata": {},
   "outputs": [],
   "source": [
    "### Randomly sampling 4000 records\n",
    "\n",
    "lung_2 = random.sample(lung, 4000)\n",
    "normal_2 = random.sample(normal, 4000)\n"
   ]
  },
  {
   "cell_type": "code",
   "execution_count": 30,
   "id": "542312a8",
   "metadata": {},
   "outputs": [],
   "source": [
    "### Adding labels\n",
    "\n",
    "covid_labels = [0] * len(covid)\n",
    "lung_labels = [1] * len(lung_2)\n",
    "normal_labels = [2] * len(normal_2)\n",
    "viral_labels = [3] * len(viral)\n",
    "final_labels = covid_labels + lung_labels + normal_labels + viral_labels\n",
    "### Splitting train and test labels\n",
    "train_labels = np.array(final_labels[0:14000])\n",
    "test_labels = np.array(final_labels[14000:len(final_labels)])\n"
   ]
  },
  {
   "cell_type": "code",
   "execution_count": 31,
   "id": "ca5e3136",
   "metadata": {},
   "outputs": [
    {
     "data": {
      "text/plain": [
       "(1651,)"
      ]
     },
     "execution_count": 31,
     "metadata": {},
     "output_type": "execute_result"
    }
   ],
   "source": [
    "test_labels.shape"
   ]
  },
  {
   "cell_type": "code",
   "execution_count": 32,
   "id": "38714d5b",
   "metadata": {},
   "outputs": [],
   "source": [
    "final_dataset_obs = covid + lung_2 + normal_2 + viral\n",
    "\n",
    "### Splitting train and test input images\n",
    "train_data = final_dataset_obs[0:14000]\n",
    "test_data = final_dataset_obs[14000:len(final_dataset_obs)]"
   ]
  },
  {
   "cell_type": "code",
   "execution_count": 33,
   "id": "2bcab33f",
   "metadata": {},
   "outputs": [
    {
     "data": {
      "text/plain": [
       "(1651, 299, 299)"
      ]
     },
     "execution_count": 33,
     "metadata": {},
     "output_type": "execute_result"
    }
   ],
   "source": [
    "train_data_final = np.array(train_data)\n",
    "train_data_final.shape\n",
    "\n",
    "test_data_final = np.array(test_data)\n",
    "test_data_final.shape\n",
    "\n"
   ]
  },
  {
   "cell_type": "code",
   "execution_count": 34,
   "id": "911c9762",
   "metadata": {},
   "outputs": [],
   "source": [
    "train_images = train_data_final.reshape(14000, 299, 299, 1)\n",
    "train_images = train_images.astype('float32') / 255\n",
    "test_images = test_data_final.reshape(1651, 299, 299, 1)\n",
    "test_images = test_images.astype('float32') / 255\n",
    "train_labels = to_categorical(train_labels)\n",
    "test_labels = to_categorical(test_labels)"
   ]
  },
  {
   "cell_type": "code",
   "execution_count": 35,
   "id": "ffa57512",
   "metadata": {},
   "outputs": [
    {
     "name": "stdout",
     "output_type": "stream",
     "text": [
      "Shape of X_train: (14000, 299, 299, 1)\n",
      "Shape of y_train: (14000, 4)\n",
      "Shape of X_test: (14000, 299, 299, 1)\n",
      "Shape of y_test: (1651, 4)\n"
     ]
    }
   ],
   "source": [
    "print(\"Shape of X_train: {}\".format(train_images.shape))\n",
    "print(\"Shape of y_train: {}\".format(train_labels.shape))\n",
    "print(\"Shape of X_test: {}\".format(train_images.shape))\n",
    "print(\"Shape of y_test: {}\".format(test_labels.shape))\n"
   ]
  },
  {
   "cell_type": "code",
   "execution_count": 11,
   "id": "d534f727",
   "metadata": {},
   "outputs": [
    {
     "name": "stdout",
     "output_type": "stream",
     "text": [
      "Model: \"sequential\"\n",
      "_________________________________________________________________\n",
      " Layer (type)                Output Shape              Param #   \n",
      "=================================================================\n",
      " conv2d (Conv2D)             (None, 297, 297, 32)      320       \n",
      "                                                                 \n",
      " conv2d_1 (Conv2D)           (None, 295, 295, 64)      18496     \n",
      "                                                                 \n",
      " flatten (Flatten)           (None, 5569600)           0         \n",
      "                                                                 \n",
      " dense (Dense)               (None, 4)                 22278404  \n",
      "                                                                 \n",
      "=================================================================\n",
      "Total params: 22,297,220\n",
      "Trainable params: 22,297,220\n",
      "Non-trainable params: 0\n",
      "_________________________________________________________________\n",
      "Epoch 1/2\n",
      "438/438 [==============================] - 4299s 10s/step - loss: 1.7927 - accuracy: 0.7118 - val_loss: 0.4329 - val_accuracy: 0.8346\n",
      "Epoch 2/2\n",
      "438/438 [==============================] - 2730s 6s/step - loss: 0.4234 - accuracy: 0.8402 - val_loss: 0.2434 - val_accuracy: 0.9182\n"
     ]
    },
    {
     "data": {
      "text/plain": [
       "<keras.callbacks.History at 0x28366a16e20>"
      ]
     },
     "execution_count": 11,
     "metadata": {},
     "output_type": "execute_result"
    }
   ],
   "source": [
    "model = Sequential()\n",
    "model.add(Conv2D(32, kernel_size=(3, 3),\n",
    "                     input_shape=(299, 299, 1), activation='relu'))\n",
    "model.add(Conv2D(64, kernel_size=(3, 3), activation='relu'))\n",
    "model.add(Flatten())\n",
    "model.add(Dense(4, activation='softmax'))\n",
    "model.summary()\n",
    "model.compile(optimizer='adam',\n",
    "                  loss='categorical_crossentropy', metrics=['accuracy'])\n",
    "model.fit(train_images, train_labels, validation_data=(\n",
    "    test_images, test_labels), epochs=2)\n"
   ]
  },
  {
   "cell_type": "code",
   "execution_count": 36,
   "id": "4a4766aa",
   "metadata": {},
   "outputs": [],
   "source": [
    "### Testing\n",
    "\n",
    "img = cv2.imread('C:\\\\Users\\Admin\\Desktop\\KG\\Covid-19\\Lung_Opacity-13.png',cv2.IMREAD_GRAYSCALE)\n",
    "#print(img)\n",
    "cv2.imshow('Lung_Opacity-13', img)\n",
    "cv2.waitKey(0)\n",
    "cv2.destroyAllWindows()"
   ]
  },
  {
   "cell_type": "code",
   "execution_count": 38,
   "id": "e7cc4e91",
   "metadata": {},
   "outputs": [
    {
     "name": "stdout",
     "output_type": "stream",
     "text": [
      "1/1 [==============================] - 0s 109ms/step\n",
      "Predicted class for test dataset image from mnist [1]\n"
     ]
    }
   ],
   "source": [
    "prediction = model.predict(scaled.reshape(1, 299, 299, 1))\n",
    "\n",
    "#init = initial_predict(train_images[100])\n",
    "classes_x=np.argmax(prediction,axis=1)\n",
    "\n",
    "print(\"Predicted class for test dataset image from mnist\", classes_x)"
   ]
  },
  {
   "cell_type": "code",
   "execution_count": null,
   "id": "02284dce",
   "metadata": {},
   "outputs": [],
   "source": []
  }
 ],
 "metadata": {
  "kernelspec": {
   "display_name": "Python 3 (ipykernel)",
   "language": "python",
   "name": "python3"
  },
  "language_info": {
   "codemirror_mode": {
    "name": "ipython",
    "version": 3
   },
   "file_extension": ".py",
   "mimetype": "text/x-python",
   "name": "python",
   "nbconvert_exporter": "python",
   "pygments_lexer": "ipython3",
   "version": "3.9.12"
  }
 },
 "nbformat": 4,
 "nbformat_minor": 5
}
